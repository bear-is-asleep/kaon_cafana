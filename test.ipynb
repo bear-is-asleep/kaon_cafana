{
 "cells": [
  {
   "cell_type": "code",
   "execution_count": 1,
   "metadata": {},
   "outputs": [],
   "source": [
    "import uproot\n",
    "import pandas as pd"
   ]
  },
  {
   "cell_type": "code",
   "execution_count": 2,
   "metadata": {},
   "outputs": [],
   "source": [
    "DATA_PATH = '/exp/sbnd/data/users/brindenc/analyze_sbnd/kaon/v09_91_02/single.flat.caf.root'"
   ]
  },
  {
   "cell_type": "code",
   "execution_count": 8,
   "metadata": {},
   "outputs": [
    {
     "name": "stderr",
     "output_type": "stream",
     "text": [
      "/exp/sbnd/app/users/brindenc/env_al9/lib64/python3.9/site-packages/uproot/interpretation/library.py:753: FutureWarning: MultiIndex.is_integer is deprecated. Use pandas.api.types.is_integer_dtype instead.\n",
      "  if hasattr(index, \"is_integer\") and index.is_integer():\n",
      "/exp/sbnd/app/users/brindenc/env_al9/lib64/python3.9/site-packages/pandas/core/series.py:1031: RuntimeWarning: invalid value encountered in cast\n",
      "  arr = np.asarray(values, dtype=dtype)\n",
      "/exp/sbnd/app/users/brindenc/env_al9/lib64/python3.9/site-packages/pandas/core/series.py:1031: RuntimeWarning: invalid value encountered in cast\n",
      "  arr = np.asarray(values, dtype=dtype)\n",
      "/exp/sbnd/app/users/brindenc/env_al9/lib64/python3.9/site-packages/pandas/core/series.py:1031: RuntimeWarning: invalid value encountered in cast\n",
      "  arr = np.asarray(values, dtype=dtype)\n",
      "/exp/sbnd/app/users/brindenc/env_al9/lib64/python3.9/site-packages/pandas/core/series.py:1031: RuntimeWarning: invalid value encountered in cast\n",
      "  arr = np.asarray(values, dtype=dtype)\n",
      "/exp/sbnd/app/users/brindenc/env_al9/lib64/python3.9/site-packages/pandas/core/series.py:1031: RuntimeWarning: invalid value encountered in cast\n",
      "  arr = np.asarray(values, dtype=dtype)\n",
      "/exp/sbnd/app/users/brindenc/env_al9/lib64/python3.9/site-packages/pandas/core/series.py:1031: RuntimeWarning: invalid value encountered in cast\n",
      "  arr = np.asarray(values, dtype=dtype)\n",
      "/exp/sbnd/app/users/brindenc/env_al9/lib64/python3.9/site-packages/pandas/core/series.py:1031: RuntimeWarning: invalid value encountered in cast\n",
      "  arr = np.asarray(values, dtype=dtype)\n",
      "/exp/sbnd/app/users/brindenc/env_al9/lib64/python3.9/site-packages/pandas/core/series.py:1031: RuntimeWarning: invalid value encountered in cast\n",
      "  arr = np.asarray(values, dtype=dtype)\n",
      "/exp/sbnd/app/users/brindenc/env_al9/lib64/python3.9/site-packages/pandas/core/series.py:1031: RuntimeWarning: invalid value encountered in cast\n",
      "  arr = np.asarray(values, dtype=dtype)\n",
      "/exp/sbnd/app/users/brindenc/env_al9/lib64/python3.9/site-packages/pandas/core/series.py:1031: RuntimeWarning: invalid value encountered in cast\n",
      "  arr = np.asarray(values, dtype=dtype)\n",
      "/exp/sbnd/app/users/brindenc/env_al9/lib64/python3.9/site-packages/pandas/core/series.py:1031: RuntimeWarning: invalid value encountered in cast\n",
      "  arr = np.asarray(values, dtype=dtype)\n",
      "/exp/sbnd/app/users/brindenc/env_al9/lib64/python3.9/site-packages/pandas/core/series.py:1031: RuntimeWarning: invalid value encountered in cast\n",
      "  arr = np.asarray(values, dtype=dtype)\n",
      "/exp/sbnd/app/users/brindenc/env_al9/lib64/python3.9/site-packages/pandas/core/series.py:1031: RuntimeWarning: invalid value encountered in cast\n",
      "  arr = np.asarray(values, dtype=dtype)\n",
      "/exp/sbnd/app/users/brindenc/env_al9/lib64/python3.9/site-packages/pandas/core/series.py:1031: RuntimeWarning: invalid value encountered in cast\n",
      "  arr = np.asarray(values, dtype=dtype)\n",
      "/exp/sbnd/app/users/brindenc/env_al9/lib64/python3.9/site-packages/pandas/core/series.py:1031: RuntimeWarning: invalid value encountered in cast\n",
      "  arr = np.asarray(values, dtype=dtype)\n",
      "/exp/sbnd/app/users/brindenc/env_al9/lib64/python3.9/site-packages/pandas/core/series.py:1031: RuntimeWarning: invalid value encountered in cast\n",
      "  arr = np.asarray(values, dtype=dtype)\n",
      "/exp/sbnd/app/users/brindenc/env_al9/lib64/python3.9/site-packages/pandas/core/series.py:1031: RuntimeWarning: invalid value encountered in cast\n",
      "  arr = np.asarray(values, dtype=dtype)\n",
      "/exp/sbnd/app/users/brindenc/env_al9/lib64/python3.9/site-packages/pandas/core/series.py:1031: RuntimeWarning: invalid value encountered in cast\n",
      "  arr = np.asarray(values, dtype=dtype)\n",
      "/exp/sbnd/app/users/brindenc/env_al9/lib64/python3.9/site-packages/pandas/core/series.py:1031: RuntimeWarning: invalid value encountered in cast\n",
      "  arr = np.asarray(values, dtype=dtype)\n",
      "/exp/sbnd/app/users/brindenc/env_al9/lib64/python3.9/site-packages/pandas/core/series.py:1031: RuntimeWarning: invalid value encountered in cast\n",
      "  arr = np.asarray(values, dtype=dtype)\n",
      "/exp/sbnd/app/users/brindenc/env_al9/lib64/python3.9/site-packages/pandas/core/series.py:1031: RuntimeWarning: invalid value encountered in cast\n",
      "  arr = np.asarray(values, dtype=dtype)\n",
      "/exp/sbnd/app/users/brindenc/env_al9/lib64/python3.9/site-packages/pandas/core/series.py:1031: RuntimeWarning: invalid value encountered in cast\n",
      "  arr = np.asarray(values, dtype=dtype)\n",
      "/exp/sbnd/app/users/brindenc/env_al9/lib64/python3.9/site-packages/pandas/core/series.py:1031: RuntimeWarning: invalid value encountered in cast\n",
      "  arr = np.asarray(values, dtype=dtype)\n",
      "/exp/sbnd/app/users/brindenc/env_al9/lib64/python3.9/site-packages/pandas/core/series.py:1031: RuntimeWarning: invalid value encountered in cast\n",
      "  arr = np.asarray(values, dtype=dtype)\n",
      "/exp/sbnd/app/users/brindenc/env_al9/lib64/python3.9/site-packages/pandas/core/series.py:1031: RuntimeWarning: invalid value encountered in cast\n",
      "  arr = np.asarray(values, dtype=dtype)\n",
      "/exp/sbnd/app/users/brindenc/env_al9/lib64/python3.9/site-packages/pandas/core/series.py:1031: RuntimeWarning: invalid value encountered in cast\n",
      "  arr = np.asarray(values, dtype=dtype)\n"
     ]
    }
   ],
   "source": [
    "tree = uproot.open(DATA_PATH)\n",
    "dfs = tree['recTree;1'].arrays(library='pd')"
   ]
  },
  {
   "cell_type": "code",
   "execution_count": 28,
   "metadata": {},
   "outputs": [
    {
     "name": "stdout",
     "output_type": "stream",
     "text": [
      "0\n",
      "1\n",
      "2\n",
      "3\n",
      "4\n",
      "5\n",
      "6\n",
      "7\n",
      "8\n",
      "9\n",
      "10\n",
      "11\n",
      "12\n",
      "13\n",
      "14\n",
      "15\n",
      "16\n",
      "17\n",
      "18\n",
      "19\n",
      "20\n",
      "21\n",
      "22\n",
      "23\n",
      "24\n",
      "25\n",
      "26\n"
     ]
    }
   ],
   "source": [
    "for i,df in enumerate(dfs):\n",
    "    for key in df.keys():\n",
    "        if 'rec.slc.reco.pfp.trk.truth' in key:\n",
    "            print(i)\n",
    "            break"
   ]
  },
  {
   "cell_type": "code",
   "execution_count": 22,
   "metadata": {},
   "outputs": [
    {
     "data": {
      "text/plain": [
       "True"
      ]
     },
     "execution_count": 22,
     "metadata": {},
     "output_type": "execute_result"
    }
   ],
   "source": [
    "'rec.crt_hits..length' in dfs[0].keys()"
   ]
  },
  {
   "cell_type": "code",
   "execution_count": null,
   "metadata": {},
   "outputs": [],
   "source": []
  }
 ],
 "metadata": {
  "kernelspec": {
   "display_name": "env_al9",
   "language": "python",
   "name": "python3"
  },
  "language_info": {
   "codemirror_mode": {
    "name": "ipython",
    "version": 3
   },
   "file_extension": ".py",
   "mimetype": "text/x-python",
   "name": "python",
   "nbconvert_exporter": "python",
   "pygments_lexer": "ipython3",
   "version": "3.9.21"
  }
 },
 "nbformat": 4,
 "nbformat_minor": 2
}
